{
  "cells": [
    {
      "cell_type": "code",
      "execution_count": null,
      "metadata": {
        "id": "NuCqeZ7HTNoh"
      },
      "outputs": [],
      "source": [
        "#Task 1: Variables and Data Types\n",
        "\n",
        "#a) Create three variables:\n",
        "Name = 'Steve'\n",
        "Age = 22\n",
        "is_student = True\n",
        "\n",
        "#printing variables\n",
        "\n",
        "print('My name is', Name)\n",
        "print('Age:', Age)\n",
        "print('Is student?', is_student)\n",
        "\n",
        "#b) Performing Operations\n",
        "\n",
        "Name += ' Smith' #Concatenating with Steve\n",
        "Age += 25 #Adding 25 to the age\n",
        "is_student = not is_student #Negating the boolean variables\n"
      ]
    },
    {
      "cell_type": "code",
      "execution_count": 8,
      "metadata": {
        "colab": {
          "base_uri": "https://localhost:8080/"
        },
        "id": "22QWb8EaUsuR",
        "outputId": "3782c94c-e9f9-41ec-bdb1-567bc92d3e5b"
      },
      "outputs": [
        {
          "name": "stdout",
          "output_type": "stream",
          "text": [
            "19.36\n"
          ]
        }
      ],
      "source": [
        "#Task 2: Expressions and Operators\n",
        "\n",
        "#Width and hight of the rectangle\n",
        "Rectangle_width = 5.5 #in units\n",
        "Rectangle_hight = 3.52 #in units\n",
        "area = Rectangle_width * Rectangle_hight\n",
        "\n",
        "#printing the area of the rectangle\n",
        "print(f'The area of the rectangle is {area} square units')"
      ]
    },
    {
      "cell_type": "code",
      "execution_count": 9,
      "metadata": {
        "colab": {
          "base_uri": "https://localhost:8080/"
        },
        "id": "pcXLlttsZkhH",
        "outputId": "93fe74e7-d5d7-4b22-8e1c-b3076cbbe385"
      },
      "outputs": [
        {
          "name": "stdout",
          "output_type": "stream",
          "text": [
            "Fahrenheight 77.0\n"
          ]
        }
      ],
      "source": [
        "#temperature in celcius\n",
        "\n",
        "temperature_celcius = 25\n",
        "\n",
        "# Converting Celsius to Fahrenheit using the formula: F = (C * 9/5) + 32\n",
        "\n",
        "temperature_fahrenheight = (temperature_celcius * 9/5) +32\n",
        "print('Fahrenheight', temperature_fahrenheight)"
      ]
    },
    {
      "cell_type": "code",
      "execution_count": null,
      "metadata": {
        "id": "WfdF3dhrcXte"
      },
      "outputs": [],
      "source": [
        "#Radius for the circle\n",
        "\n",
        "Radius = 5 #in units\n",
        "# where π (pi) is approximately 3.14159).\n",
        "pi = 3.14159\n",
        "\n",
        "area = pi * (Radius** 2)\n",
        "\n",
        "#printing the calulated area\n",
        "print(f'The area of the circle is {area}')"
      ]
    },
    {
      "cell_type": "code",
      "execution_count": null,
      "metadata": {
        "id": "vaCXIg-Ok5hi"
      },
      "outputs": [],
      "source": [
        "#a) Task 3: Introduction to Data Structures\n",
        "\n",
        "#creating a list\n",
        "fruits = ['apple', 'banana', 'orange', 'grape', 'Kiwi' ]\n",
        "\n",
        "#printing list of fruits\n",
        "print(fruits)\n"
      ]
    },
    {
      "cell_type": "code",
      "execution_count": null,
      "metadata": {
        "id": "Wb7Ie-KwrOYH"
      },
      "outputs": [],
      "source": [
        "#b) Creating tuples of months\n",
        "\n",
        "#Creating a tuple\n",
        "Months = ('January', 'Febuary', 'March')\n",
        "\n",
        "#printing months tuples\n",
        "print(Months)"
      ]
    },
    {
      "cell_type": "code",
      "execution_count": null,
      "metadata": {
        "id": "YBiVDoMWrI2p"
      },
      "outputs": [],
      "source": [
        "#a)Task 4: List Manipulation\n",
        "\n",
        "#list of the numbers\n",
        "numbers = [12, 34, 45, 67, 89, 100, 23, 56]\n",
        "\n",
        "#sum of the list\n",
        "sum_numbers = sum(numbers)\n",
        "\n",
        "#average of the list\n",
        "avreage_numbers = sum_numbers / len(numbers)\n",
        "\n",
        "#printing the sum and average numbers of the list\n",
        "print('Sum of the list is: ', sum_numbers)\n",
        "print('Average of the list is: ',avreage_numbers)\n"
      ]
    },
    {
      "cell_type": "code",
      "execution_count": null,
      "metadata": {
        "id": "KV1iwC-puVRF"
      },
      "outputs": [],
      "source": [
        "#b) Removing first and the last element of the list\n",
        "\n",
        "#original list\n",
        "fruits = ['apple', 'banana', 'orange', 'grape', 'Kiwi' ]\n",
        "\n",
        "#removing first and last element\n",
        "new_fruits_list = fruits [1:-1]\n",
        "\n",
        "#printing updated list\n",
        "\n",
        "print('New list of fruits: ', new_fruits_list)\n"
      ]
    },
    {
      "cell_type": "code",
      "execution_count": null,
      "metadata": {
        "id": "xichxysMxH-s"
      },
      "outputs": [],
      "source": [
        "#a) Task 5: Dictionary Operations\n",
        "\n",
        "#creating a dictionary\n",
        "capitals = { 'USA' : 'Washington DC',\n",
        "             'France' : 'Paris',\n",
        "             'Japan' : 'Tokyo'\n",
        "}\n",
        "\n",
        "#printing the dictionary\n",
        "print('Capitals Dictionary: ', capitals)\n"
      ]
    },
    {
      "cell_type": "code",
      "execution_count": null,
      "metadata": {
        "id": "PriRmA3Y2Bde"
      },
      "outputs": [],
      "source": [
        "#b) Adding a new country into the dictionary\n",
        "\n",
        "#Original dictionary\n",
        "capitals = { 'USA' : 'Washington DC',\n",
        "             'France' : 'Paris',\n",
        "             'Japan' : 'Tokyo'\n",
        "}\n",
        "\n",
        "#updating dictionary\n",
        "capitals['Germany'] = 'Berlin'\n",
        "\n",
        "#printing the updated dictionary\n",
        "print('Updated dictionary', capitals)"
      ]
    },
    {
      "cell_type": "code",
      "execution_count": null,
      "metadata": {
        "id": "74teONPx6UQb"
      },
      "outputs": [],
      "source": [
        "#Original dictionary of capitals\n",
        "capitals = { 'USA' : 'Washington DC',\n",
        "             'France' : 'Paris',\n",
        "             'Japan' : 'Tokyo'\n",
        "}\n",
        "#Check if \"France\" exists in the \"capitals\" dictionary.\n",
        "if 'France' in capitals:\n",
        "  print('France is in the dictionary')\n",
        "else:\n",
        "  ('France is not in the dictionary')"
      ]
    },
    {
      "cell_type": "code",
      "execution_count": null,
      "metadata": {
        "id": "28gczbIX8Csy"
      },
      "outputs": [],
      "source": [
        "#Task 6: Comparison Operators, Logical Operators and If/Else:\n",
        "\n",
        "#creating a variable\n",
        "number  = int(input('Enter your number: '))\n",
        "\n",
        "#checking if the number is even or odd\n",
        "if number % 2 == 0:\n",
        "  print(number, 'is even')\n",
        "else:\n",
        "  print(number,'is odd!')\n"
      ]
    },
    {
      "cell_type": "code",
      "execution_count": null,
      "metadata": {
        "id": "_9CNgnlS-fhe"
      },
      "outputs": [],
      "source": [
        "#creating conditions to check age and variable\n",
        "\n",
        "#checking eligibilty for addmission\n",
        "\n",
        "Gpa = 3.2 #replace with your Gpa\n",
        "age = 19  #replace with your age\n",
        "\n",
        "if Gpa >= 3.2 and age >= 19:\n",
        "  print('Congraturaltions, you are eligible for admission')\n",
        "elif Gpa < 3.2 and age ==19:\n",
        "  print('Sorry, your Gpa is low')\n",
        "elif Gpa == 3.2 and age > 19:\n",
        "  print('Your Gpa is impressive but you are underage')\n",
        "else:\n",
        "  print('You are not eligible for the admission, sorry')\n"
      ]
    },
    {
      "cell_type": "code",
      "execution_count": null,
      "metadata": {
        "id": "71NX4YutH03e"
      },
      "outputs": [],
      "source": [
        "#Task 7: Advanced Data Types\n",
        "\n",
        "#creating a fruits set\n",
        "fruits_set = {'Apple','Banana','Orange', 'Graps', 'Kiwis'}\n",
        "\n",
        "#printing fruit set\n",
        "print('Fruits set', fruits_set)"
      ]
    },
    {
      "cell_type": "code",
      "execution_count": null,
      "metadata": {
        "id": "4K3iJBJfNJak"
      },
      "outputs": [],
      "source": [
        "# Given sets\n",
        "set1 = {1, 2, 3, 4, 5}\n",
        "set2 = {3, 4, 5, 6, 7}\n",
        "\n",
        "# Union of sets\n",
        "union_set = set1.union(set2)\n",
        "print(\"Union of set1 and set2:\", union_set)\n",
        "\n",
        "# Intersection of sets\n",
        "intersection_set = set1.intersection(set2)\n",
        "print(\"Intersection of set1 and set2:\", intersection_set)\n",
        "\n",
        "# Difference between set1 and set2\n",
        "difference_set = set1.difference(set2)\n",
        "print(\"Difference between set1 and set2:\", difference_set)\n",
        "\n",
        "# Check if set1 is a subset of set2\n",
        "is_subset = set1.issubset(set2)\n",
        "print(\"Is set1 a subset of set2?\", is_subset)\n"
      ]
    },
    {
      "cell_type": "code",
      "execution_count": null,
      "metadata": {
        "id": "iceVKGjLJTUY"
      },
      "outputs": [],
      "source": [
        "#Task 8: Strings Manipulation\n",
        "sentence = 'Python programming is fun and powerful!'\n",
        "\n",
        "#finding length\n",
        "sentence_length = len(sentence)\n",
        "print('String of the length', sentence_length)\n",
        "\n",
        "#converting string into upercase\n",
        "uppercase_sentence = sentence.upper()\n",
        "print('Uppercase Sentence', uppercase_sentence)\n",
        "\n",
        "#Replace \"fun\" with \"exciting.\n",
        "\n",
        "updated_sentence = sentence.replace('fun','exciting')\n",
        "print('Updated sentence', updated_sentence)\n",
        "\n",
        "#Checking if the string contains the word \"Python\".\n",
        "\n",
        "contains_python = 'Python' in sentence\n",
        "print('Sentence contains word Python',contains_python)\n",
        "\n",
        "#Split the string into a list of words\n",
        "\n",
        "words_list = sentence.split()\n",
        "print('words of list', words_list)\n",
        "\n",
        "\n"
      ]
    }
  ],
  "metadata": {
    "colab": {
      "provenance": []
    },
    "kernelspec": {
      "display_name": "Python 3",
      "name": "python3"
    },
    "language_info": {
      "name": "python"
    }
  },
  "nbformat": 4,
  "nbformat_minor": 0
}
